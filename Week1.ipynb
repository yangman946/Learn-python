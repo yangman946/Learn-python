{
  "nbformat": 4,
  "nbformat_minor": 0,
  "metadata": {
    "colab": {
      "provenance": [],
      "toc_visible": true,
      "authorship_tag": "ABX9TyOFWKxioFsAMygS/XGIyiqg",
      "include_colab_link": true
    },
    "kernelspec": {
      "name": "python3",
      "display_name": "Python 3"
    },
    "language_info": {
      "name": "python"
    }
  },
  "cells": [
    {
      "cell_type": "markdown",
      "metadata": {
        "id": "view-in-github",
        "colab_type": "text"
      },
      "source": [
        "<a href=\"https://colab.research.google.com/github/yangman946/Learn-python/blob/main/Week1.ipynb\" target=\"_parent\"><img src=\"https://colab.research.google.com/assets/colab-badge.svg\" alt=\"Open In Colab\"/></a>"
      ]
    },
    {
      "cell_type": "markdown",
      "source": [
        "# Intro to python and programming\n"
      ],
      "metadata": {
        "id": "OMjhsmw3Lvog"
      }
    },
    {
      "cell_type": "markdown",
      "source": [
        "## Live Demo"
      ],
      "metadata": {
        "id": "7KrutGqgTMB2"
      }
    },
    {
      "cell_type": "code",
      "execution_count": null,
      "metadata": {
        "id": "BImORYCkIqyI"
      },
      "outputs": [],
      "source": [
        "print('Welcome to Python! My name is Clarence Yang and it is my pleasure to welcome you to the amazing world of programming!')"
      ]
    },
    {
      "cell_type": "code",
      "source": [
        "start_year = 2017\n",
        "\n",
        "import datetime\n",
        "\n",
        "print('A little bit about myself:')\n",
        "print(f'I have been programming for about {datetime.datetime.now().year - 2017} years')\n",
        "print(f'I made my start in game development')"
      ],
      "metadata": {
        "id": "teVGDdUHJU2R"
      },
      "execution_count": null,
      "outputs": []
    },
    {
      "cell_type": "code",
      "source": [
        "my_expertise = [\"C#\", \"Python\", \"Javascript\", \"Visual basic\", \"HTML\", \"Unity\"]\n",
        "\n",
        "print(f'My programming experience extends to:')\n",
        "\n",
        "for i, item in enumerate(my_expertise):\n",
        "  print(f\"{i+1}.{item}\")\n",
        "\n"
      ],
      "metadata": {
        "id": "WNd32WNnK31a"
      },
      "execution_count": null,
      "outputs": []
    },
    {
      "cell_type": "code",
      "source": [
        "# Now to you:\n",
        "\n",
        "my_student = input(\"So what is your name? \")\n",
        "print(f\"Nice to meet you {my_student}!\")\n",
        "print(f\"Today we are going to cover some programming fundamentals in our introduction to python!\")"
      ],
      "metadata": {
        "id": "XwLN9Xm0MGvl"
      },
      "execution_count": null,
      "outputs": []
    },
    {
      "cell_type": "markdown",
      "source": [
        "## How I'm structuring my lessons\n",
        "\n",
        "Before we get started, I just want to briefly go over how I'm going to structure each lesson, and the types of things we will cover along the way.\n",
        "\n",
        "I strongly believe that to learn, you must first apply yourself.\n",
        "\n",
        "Hence, apart from the first session, each session will be broken down into two components:\n",
        "<br>\n",
        "1. A Theory component \n",
        "> Where we will walk through programming theories and activities\n",
        "2. A Practical component \n",
        "> Where we will work on a project or apply ourselves to mini-projects relevant to the session's theory. \n",
        "\n",
        "Theory we will be covering throughout this course includes:\n",
        "* Syntax\n",
        "* Data structures I\n",
        "* Control structures: Loops, conditions, etc.\n",
        "* Functions\n",
        "* Data structures II\n",
        "* Working with libraries \n",
        "* Classes\n",
        "* Modules\n",
        "* Error handling\n",
        "* API requests and other python applications\n",
        "\n",
        "Practical projects we may work on includes:\n",
        "* Basic calculator (console)\n",
        "* Basic calculator (GUI)\n",
        "* Rock paper scissors \n",
        "* Dice \n",
        "* Magic 8 ball\n",
        "* Hangman game \n",
        "* Wordle clone\n",
        "* And more...\n",
        "\n",
        "\n",
        "\n"
      ],
      "metadata": {
        "id": "TDAeIPdTbmWH"
      }
    },
    {
      "cell_type": "markdown",
      "source": [
        "## What is programming? \n",
        "\n",
        "```\n",
        "Programming is the act of writing computer programs, in other words, writing instructions that tells your computer what to do.\n",
        "```\n",
        "\n",
        "* How much experience do you have with programming?\n",
        "* Are you interested in programming? \n",
        "* What do you want to achieve with programming?\n",
        "* Do you wish to pursue STEM when you grow up? \n",
        "* Or do you want to enjoy programming as a hobby?\n",
        "\n",
        "<br>\n",
        "\n",
        "As with any form of communication, we need a way to communicate with our computer. On the most basic level, computers talk in binary (1's & 0's), this is a first generation language. Humans obviously cannot make sense of a lengthy string of binary, so we invent programming languages like python to help us communicate with our computers - these are third generation languages.\n",
        "\n",
        "> Then what are second generation languages?\n",
        "\n",
        "<br>\n",
        "\n",
        "The demo you saw at the beginning of this session is in python - the language that we will learn and use throughout this course. Like a spoken language, it is a skill you must learn to become fluent at.\n",
        "\n",
        "The demo might be challenging to understand at first, but luckily, you'll notice that it's mostly in English. \n",
        "\n"
      ],
      "metadata": {
        "id": "6OhgnCg7NEfS"
      }
    },
    {
      "cell_type": "markdown",
      "source": [
        "## How do we start?\n",
        "\n",
        "Right now, what you are seeing on my screen is Jupyter notebook, a service linked to Google drive. It is a collaborative web based python sandbox that we'll use each lesson to learn and understand python. \n",
        "\n",
        "I recommend you download python on your own machine, that way you can code along and even work on your own personal projects. https://www.python.org/downloads/ \n",
        "\n",
        "If you do not have a python IDE, I suggest you find a web interpreter like https://replit.com/ \n",
        "\n",
        "At the end of each lesson, I will save the notebook to both Google drive and Github for your future reference. "
      ],
      "metadata": {
        "id": "7t1o67YjRxjm"
      }
    },
    {
      "cell_type": "markdown",
      "source": [
        "# Section 1: Python syntax\n",
        "\n",
        "Syntax is grammar, it is the rules that govern our language. Let's open a blank python program - try to follow along in your own IDE. \n",
        "\n",
        "We have already seen some syntax in the Live Demo, but let's dig deeper!\n",
        "\n",
        "\n",
        "\n"
      ],
      "metadata": {
        "id": "nwNTkBhXSz24"
      }
    },
    {
      "cell_type": "markdown",
      "source": [
        "## Commenting\n",
        "\n",
        "Comments in python are denoted with a '#' or between three apostrophes:"
      ],
      "metadata": {
        "id": "o1AqME9bgFz1"
      }
    },
    {
      "cell_type": "code",
      "source": [
        "# I'm a comment!\n",
        "\n",
        "''' \n",
        "I'm a\n",
        "multilined \n",
        "comment\n",
        "'''"
      ],
      "metadata": {
        "id": "J5RuK4tHUIUw"
      },
      "execution_count": null,
      "outputs": []
    },
    {
      "cell_type": "markdown",
      "source": [
        "The python interpreter (engine) ignores comments. Comments are useful to explain what your code does, which makes it easier for other people to read your code and maintain it. "
      ],
      "metadata": {
        "id": "XBeime1KUQb_"
      }
    },
    {
      "cell_type": "markdown",
      "source": [
        "## Variables\n",
        "\n",
        "Variables are like empty boxes, they are filled when they store something. Variables store data, they are called variables because the data they store can change, otherwise they are constants. \n",
        "\n",
        "Variables are initiated like this:\n",
        "\n",
        "\n",
        "\n",
        "```\n",
        "# Here are examples of variables\n",
        "\n",
        "myInteger = 10 # myInteger is of integer type\n",
        "myFloat = 5.6 # myFloat is a floating point (decimal) type\n",
        "myString = \"Hello world\" # myString stores a string of text\n",
        "myBool = True # myBool stores boolean (true/false) data\n",
        "myArray = [1, 2, 3, 4] # myArray stores a numerical array\n",
        "\n",
        "```\n",
        "*Example 1*\n",
        "<br>\n",
        "\n",
        "The first part of a variable is it's name.\n",
        "\n",
        "\n",
        "```\n",
        "myInteger\n",
        "```\n",
        "\n",
        "We write variable names using camel case (camelCase), where the second word is capitalized. This is becauses spaces are not allowed in variable names according to python's syntax and therefore we need a way to differentiate between the two words 'my' and 'integer'. \n",
        "\n",
        "> NOTE: be careful when coming up with variable names, reserved (coloured) words, like `print`, `in`, `for`, etc. cannot be used as these have defined functions in python. \n",
        "\n",
        "We assign a value to the variable `myInteger` using the `=` sign.\n",
        "\n",
        "E.g., \n",
        "\n",
        "```\n",
        "myInteger = 10\n",
        "```\n",
        "\n",
        "In example 1, we saw a whole bunch of different values being stored. In python, we do not need to indicate the data type of the value. Simply assigning data to the variable lets python know what the data type is. \n",
        "\n",
        "For reference, here is how we would assign an integer value and string value in C#:\n",
        "\n",
        "```\n",
        "int myInteger = 10;\n",
        "string myString = \"hello world\";\n",
        "```\n",
        "\n",
        "Notice here, how we needed to specify the type of data `myInteger` stores, we don't need to do this in python.\n",
        "\n",
        "You can assign variables as many times as you want, or even assign variables to variables!"
      ],
      "metadata": {
        "id": "8lul1-2SUooO"
      }
    },
    {
      "cell_type": "code",
      "source": [
        "myVariable = 10\n",
        "myVariable = \"hello world\"\n",
        "myOtherVariable = True\n",
        "myVariable = myOtherVariable\n",
        "\n",
        "# before you hit run, what do you think myVariable is?\n",
        "print(myVariable)"
      ],
      "metadata": {
        "id": "lbkfS7OalylU"
      },
      "execution_count": null,
      "outputs": []
    },
    {
      "cell_type": "markdown",
      "source": [
        "## Data structures \n",
        "\n",
        "Just now, we have looked at integers when we assigned:\n",
        "\n",
        "```\n",
        "myInteger = 10\n",
        "```\n",
        "\n",
        "But we have also seen situations where we stored non-integers in a variable!\n",
        "<br>\n",
        "\n",
        "Let's take a deeper look into just what type of data we can store.\n",
        "\n",
        "> **Strings**: words, sentences or paragraphs. \n",
        "\n",
        "e.g.,\n",
        "\n",
        "\n",
        "```\n",
        "myString = \"hello world\" \n",
        "```\n",
        "\n",
        "> **Boolean**: either true or false\n",
        "\n",
        "e.g.,\n",
        "\n",
        "\n",
        "```\n",
        "myBool = true\n",
        "```\n",
        "\n",
        "> **Float**: decimal numbers\n",
        "\n",
        "e.g.,\n",
        "\n",
        "\n",
        "```\n",
        "myFloat = 0.67\n",
        "```\n",
        "\n",
        "> **Array**: a list, can be a list of bools, integers, floats, strings, or even other lists!\n",
        "\n",
        "e.g.,\n",
        "\n",
        "\n",
        "```\n",
        "shoppingList = [\"Apples\", \"Banana\", \"Mango\"]\n",
        "```\n",
        "\n",
        "We will dive deeper into each data structure in future sections. \n",
        "\n",
        "The main takeaway from this part is that there are a number of different datas we would need to store - each with different data types depending on the situation, and our variables will need to have the correct data structure to store this data. "
      ],
      "metadata": {
        "id": "ASG3M2m9iijO"
      }
    },
    {
      "cell_type": "markdown",
      "source": [
        "## Manipulating data\n",
        "\n",
        "**What are Operators?**\n",
        "\n",
        "We use operators in maths, like addition, multiplication, division, subtraction. These also exist in python:\n",
        "\n",
        "For this section, we will cover some arithmetic and assignment operators."
      ],
      "metadata": {
        "id": "t-Mq16Y6rqJl"
      }
    },
    {
      "cell_type": "code",
      "source": [
        "number1 = 23\n",
        "number2 = 56\n",
        "\n",
        "print(number1 + number2) # addition\n",
        "\n",
        "print(number1 - number2) # subtraction\n",
        "\n",
        "print(number1 * number2) # multiplication\n",
        "\n",
        "print(number1 / number2) # division\n",
        "\n",
        "print(number1 % number2) # modulus (find remainder)\n",
        "\n",
        "print(number1 ** number2) # exponentiation \n",
        "\n",
        "print(number1 // number2) # floor division (divide but round down)"
      ],
      "metadata": {
        "id": "dn5BtmgMsMvP"
      },
      "execution_count": null,
      "outputs": []
    },
    {
      "cell_type": "markdown",
      "source": [
        "Operators can apply to most data types, including strings!"
      ],
      "metadata": {
        "id": "PsyxzdJ8s1QL"
      }
    },
    {
      "cell_type": "code",
      "source": [
        "myString = \"foo\"\n",
        "myOtherString = \"bar\"\n",
        "\n",
        "print(myString + myOtherString) # concatenation\n",
        "\n",
        "# print(myString - myOtherString) # <-- error, cannot subtract strings\n",
        "\n",
        "print(myString * 5) # multiply string just repeats it\n"
      ],
      "metadata": {
        "colab": {
          "base_uri": "https://localhost:8080/"
        },
        "id": "SuXEs2ZHs8jV",
        "outputId": "514d2df0-0bec-4574-c161-9fa68a50c73a"
      },
      "execution_count": 11,
      "outputs": [
        {
          "output_type": "stream",
          "name": "stdout",
          "text": [
            "foobar\n",
            "foofoofoofoofoo\n"
          ]
        }
      ]
    },
    {
      "cell_type": "markdown",
      "source": [
        "**Concatenation**\n",
        "\n",
        "Concatenation is the process of adding two strings together. \n",
        "\n",
        "For example:\n"
      ],
      "metadata": {
        "id": "1AoI5m7VtaOT"
      }
    },
    {
      "cell_type": "code",
      "source": [
        "name = \"JOHN CENA\"\n",
        "\n",
        "print(\"AND HIS NAME IS: \" + name + \"!\")"
      ],
      "metadata": {
        "colab": {
          "base_uri": "https://localhost:8080/"
        },
        "id": "_DzZIDrvtjJm",
        "outputId": "f7dc09f9-6b34-445e-d51f-be1a6c6bb264"
      },
      "execution_count": 12,
      "outputs": [
        {
          "output_type": "stream",
          "name": "stdout",
          "text": [
            "AND HIS NAME IS: JOHN CENA\n"
          ]
        }
      ]
    },
    {
      "cell_type": "markdown",
      "source": [
        "> Advanced: using concatenation this way may seem clunky, so programmers often use formatted strings such as 'f' strings:\n"
      ],
      "metadata": {
        "id": "6e80rZtNtuxj"
      }
    },
    {
      "cell_type": "code",
      "source": [
        "name = \"JOHN CENA\"\n",
        "\n",
        "print(f\"AND HIS NAME IS {name}\")\n",
        "\n",
        "print(\"AND HIS NAME IS %s\" % name)\n",
        "\n",
        "print(\"AND HIS NAME IS {}\".format(name))"
      ],
      "metadata": {
        "id": "Hu_C52OxuAY8"
      },
      "execution_count": null,
      "outputs": []
    },
    {
      "cell_type": "markdown",
      "source": [
        "## Essential functions \n",
        "\n",
        "**Print function**\n",
        "\n",
        "\n",
        "\n",
        "```\n",
        "print(\"Hello world\")\n",
        "```\n",
        "\n",
        "Here's a little intro to functions. `print()` represents a function. A function is like a maths function `f(x)` where the item within the `()` is its input, and it could represent an output. \n",
        "A function will often perform a task, in this case, displaying whatever is inside the brackets onto the console. We can interface with this function by calling `print()` and adding a string variable into the `()`. \n",
        "\n",
        "> Did you know: The python interpreter is a complicated program written in 'C' - another programming language. Functions like `print()` are reserved (hence they are coloured in) because they are explicitly defined in its source code.\n",
        "\n",
        "TLDR: The print function above will take the string `\"Hello world\"` as its input, and display it onto the console. \n",
        "\n",
        "**Input function**\n",
        "\n",
        "```\n",
        "input(\"Hello, what is your name? \")\n",
        "```\n",
        "\n",
        "This function will prompt the user with the string `\"Hello, what is your name?\"`, and waits for user input, to which it will store whatever the user has typed into a variable:\n",
        "\n"
      ],
      "metadata": {
        "id": "RohEMpd7kx0-"
      }
    },
    {
      "cell_type": "code",
      "source": [
        "name = input(\"Hello, what is your name? \") # name variable stores what the user responds with\n",
        "\n",
        "print(\"hi \" + name) "
      ],
      "metadata": {
        "colab": {
          "base_uri": "https://localhost:8080/"
        },
        "id": "-QHOdQE0wPKx",
        "outputId": "b054a6ca-db38-4905-e347-16051d7d6e8e"
      },
      "execution_count": 16,
      "outputs": [
        {
          "output_type": "stream",
          "name": "stdout",
          "text": [
            "Hello, what is your name? bob\n",
            "hi bob\n"
          ]
        }
      ]
    },
    {
      "cell_type": "markdown",
      "source": [
        "## Checkpoint\n",
        "\n",
        "Now that we have covered variables and data structures, write a program that will ask a user for their age in years and will find the user's age in months.\n"
      ],
      "metadata": {
        "id": "67BFMu8kk7zW"
      }
    },
    {
      "cell_type": "code",
      "source": [],
      "metadata": {
        "id": "i8zYK1NmusHU"
      },
      "execution_count": null,
      "outputs": []
    },
    {
      "cell_type": "markdown",
      "source": [
        "# Conclusion \n",
        "\n",
        "Any questions through out the week, please contact me.\n",
        "\n",
        "My contacts:\n",
        "\n",
        "Email: Clarenceyang284@gmail.com\n",
        "<br>\n",
        "Github: https://github.com/yangman946 \n",
        "\n",
        "Google drive link: https://drive.google.com/drive/folders/1OJf9azKN4f_xMz-9r8dTUaQuUOWQ0O1X?usp=sharing \n",
        "\n",
        "Github repo: "
      ],
      "metadata": {
        "id": "RAmkmjeivCva"
      }
    }
  ]
}